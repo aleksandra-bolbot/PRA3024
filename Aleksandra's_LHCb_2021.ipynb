{
  "nbformat": 4,
  "nbformat_minor": 0,
  "metadata": {
    "colab": {
      "name": "Aleksandra's LHCb_2021.ipynb",
      "provenance": [],
      "collapsed_sections": [],
      "include_colab_link": true
    },
    "kernelspec": {
      "name": "python2",
      "display_name": "Python 2"
    },
    "accelerator": "GPU"
  },
  "cells": [
    {
      "cell_type": "markdown",
      "metadata": {
        "id": "view-in-github",
        "colab_type": "text"
      },
      "source": [
        "<a href=\"https://colab.research.google.com/github/aleksandra-boop/PRA3024/blob/main/Aleksandra's_LHCb_2021.ipynb\" target=\"_parent\"><img src=\"https://colab.research.google.com/assets/colab-badge.svg\" alt=\"Open In Colab\"/></a>"
      ]
    },
    {
      "cell_type": "markdown",
      "metadata": {
        "id": "1JafiSIrvEKW"
      },
      "source": [
        "Welcome to Week 4!\n",
        "\n",
        "We will be focussing in Particle Physics Analysis and detecting matter/antimatter assymetries in the production of certain types of particles. ![LHCb detector](https://www1b.physik.rwth-aachen.de/~schael/LHCb_files/LHCB%20PREVIEW-white-bg.jpg)\n",
        "\n",
        "The data we are using comes from LHCb - one of the experiments at LHC. It is a highly specialised detector aimed at detecting decays involving the B-quark. Unlike the other major experiments, LHCb detects particles very close to the source and looks almost exclusively in the forward direction - this gives the detector many advantages compared to other experiments at LHC.\n",
        "\n",
        "In order to get started, we need to access the [ROOT framework](https://root.cern.ch/) and download some datafiles into this machine.\n",
        "\n",
        "If you are using Google Colab then you need to ensure that you are using Python 2:\n",
        "\n",
        "Before we start - we have to use Python2 (not Python 3), so we should choose this as an option in \"Runtime\" -> \"Change Runtime Type\" at the top or create a new notebook in Python2 by appending \"&runtime=python2\" to the URL."
      ]
    },
    {
      "cell_type": "code",
      "metadata": {
        "id": "itpG72AnFenK",
        "colab": {
          "base_uri": "https://localhost:8080/"
        },
        "outputId": "7e24d321-a321-4185-806f-aa8aec71320c"
      },
      "source": [
        "from google.colab import drive\n",
        "drive.mount('/content/drive')"
      ],
      "execution_count": null,
      "outputs": [
        {
          "output_type": "stream",
          "text": [
            "Drive already mounted at /content/drive; to attempt to forcibly remount, call drive.mount(\"/content/drive\", force_remount=True).\n"
          ],
          "name": "stdout"
        }
      ]
    },
    {
      "cell_type": "code",
      "metadata": {
        "id": "vFclIR72w0mU",
        "colab": {
          "base_uri": "https://localhost:8080/"
        },
        "outputId": "6c2fe296-576e-4828-82e3-db8cfe57fbf6"
      },
      "source": [
        "#Colab only\n",
        "#we are going to make a directory called APPS\n",
        "!mkdir -p APPS\n",
        "#Now we move to our directory called APPS and we download ROOT from the CERN server, this version is chosen because it runs on this machine - if you want to run this locally check the versions!\n",
        "!cd APPS && wget https://root.cern.ch/download/root_v6.13.08.Linux-ubuntu18-x86_64-gcc7.3.tar.gz \n",
        "#Now we extract our downloaded file:\n",
        "!cd APPS && tar -xf root_v6.13.08.Linux-ubuntu18-x86_64-gcc7.3.tar.gz\n"
      ],
      "execution_count": null,
      "outputs": [
        {
          "output_type": "stream",
          "text": [
            "--2021-03-01 21:00:21--  https://root.cern.ch/download/root_v6.13.08.Linux-ubuntu18-x86_64-gcc7.3.tar.gz\n",
            "Resolving root.cern.ch (root.cern.ch)... 137.138.18.236, 2001:1458:201:ee::100:6\n",
            "Connecting to root.cern.ch (root.cern.ch)|137.138.18.236|:443... connected.\n",
            "HTTP request sent, awaiting response... 200 OK\n",
            "Length: 137415272 (131M) [application/x-gzip]\n",
            "Saving to: ‘root_v6.13.08.Linux-ubuntu18-x86_64-gcc7.3.tar.gz.5’\n",
            "\n",
            "root_v6.13.08.Linux 100%[===================>] 131.05M  29.9MB/s    in 5.1s    \n",
            "\n",
            "2021-03-01 21:00:26 (25.9 MB/s) - ‘root_v6.13.08.Linux-ubuntu18-x86_64-gcc7.3.tar.gz.5’ saved [137415272/137415272]\n",
            "\n"
          ],
          "name": "stdout"
        }
      ]
    },
    {
      "cell_type": "code",
      "metadata": {
        "id": "COPyXIvbxqht",
        "colab": {
          "base_uri": "https://localhost:8080/"
        },
        "outputId": "bf793520-617b-42c7-8c6f-89dbb7e166b8"
      },
      "source": [
        "#Colab only:\n",
        "#now we can extract some files from ROOT and ensure that we can access the libraries. We use some python key words to get access to the right files:\n",
        "\n",
        "import sys\n",
        "\n",
        "sys.path.append(\"/content/APPS/root/lib\")\n",
        "\n",
        "import ctypes\n",
        "\n",
        "\n",
        "ctypes.cdll.LoadLibrary('/content/APPS/root/lib/libCore.so')\n",
        "\n",
        "ctypes.cdll.LoadLibrary('/content/APPS/root/lib/libThread.so')\n",
        "\n",
        "ctypes.cdll.LoadLibrary('/content/APPS/root/lib/libImt.so')\n",
        "\n",
        "ctypes.cdll.LoadLibrary('/content/APPS/root/lib/libRIO.so')\n",
        "\n",
        "ctypes.cdll.LoadLibrary('/content/APPS/root/lib/libNet.so')\n",
        "\n",
        "ctypes.cdll.LoadLibrary('/content/APPS/root/lib/libTree.so')\n",
        "\n",
        "ctypes.cdll.LoadLibrary('/content/APPS/root/lib/libMathCore.so')\n",
        "\n",
        "ctypes.cdll.LoadLibrary('/content/APPS/root/lib/libMathMore.so')\n",
        "\n",
        "ctypes.cdll.LoadLibrary('/content/APPS/root/lib/libMatrix.so')\n",
        "\n",
        "ctypes.cdll.LoadLibrary('/content/APPS/root/lib/libHist.so')\n",
        "\n",
        "ctypes.cdll.LoadLibrary('/content/APPS/root/lib/libGraf.so')\n",
        "\n",
        "ctypes.cdll.LoadLibrary('/content/APPS/root/lib/libPyROOT.so')\n",
        "\n",
        "ctypes.cdll.LoadLibrary('/content/APPS/root/lib/libGpad.so')\n",
        "\n",
        "ctypes.cdll.LoadLibrary('/content/APPS/root/lib/libGraf3d.so')\n",
        "\n",
        "ctypes.cdll.LoadLibrary('/content/APPS/root/lib/libMultiProc.so')\n",
        "\n",
        "ctypes.cdll.LoadLibrary('/content/APPS/root/lib/libMinuit.so')\n",
        "\n",
        "ctypes.cdll.LoadLibrary('/content/APPS/root/lib/libFoam.so')"
      ],
      "execution_count": null,
      "outputs": [
        {
          "output_type": "execute_result",
          "data": {
            "text/plain": [
              "<CDLL '/content/APPS/root/lib/libFoam.so', handle 55b364108300 at 7f086f5f9550>"
            ]
          },
          "metadata": {
            "tags": []
          },
          "execution_count": 223
        }
      ]
    },
    {
      "cell_type": "code",
      "metadata": {
        "id": "QTVz7NQMyDCb",
        "colab": {
          "base_uri": "https://localhost:8080/",
          "height": 589
        },
        "outputId": "bd5499d0-0195-44d7-9a71-a9851e6d4ea8"
      },
      "source": [
        "#Now we can check if we have everything working as we expect: \n",
        "#Import brings the ROOT framework into our python environment.\n",
        "import ROOT\n",
        "#We define a 1 dimensional histogram, with 100 bins which ranges from -4 to +4\n",
        "h = ROOT.TH1F(\"gauss\",\"Example histogram\",100,-4,4)\n",
        "#Fill the histogram with gaussian (random) distribution\n",
        "h.FillRandom(\"gaus\")\n",
        "#make a Canvas (i.e. a drawing)\n",
        "c = ROOT.TCanvas(\"myCanvasName\",\"The Canvas Title\",800,600)\n",
        "#Draw my histogram\n",
        "h.Draw()\n",
        "#Show me the canvas\n",
        "c.Draw()"
      ],
      "execution_count": null,
      "outputs": [
        {
          "output_type": "display_data",
          "data": {
            "image/png": "[encoded data removed]",
            "text/plain": [
              "<IPython.core.display.Image object>"
            ]
          },
          "metadata": {
            "tags": []
          }
        }
      ]
    },
    {
      "cell_type": "markdown",
      "metadata": {
        "id": "VXW1M6XB0tXP"
      },
      "source": [
        "All being well - this should give no errors and we should have some kind of Gaussian distribution above.\n",
        "\n",
        "The next step is to get our data file - you can find it on Canvas here: https://maastrichtuniversity.instructure.com/courses/5826/files/553829?module_item_id=115201\n",
        "\n",
        "Then upload it either directly or to your Google Drive and then mount this to your Colab environment"
      ]
    },
    {
      "cell_type": "code",
      "metadata": {
        "id": "Co476pbmBvBB",
        "colab": {
          "base_uri": "https://localhost:8080/",
          "height": 562
        },
        "outputId": "6103e0a5-1fb0-4067-e0ad-8e53e157c3d5"
      },
      "source": [
        "#Since we need to use ROOT, we must first import this into Python:\n",
        "import ROOT\n",
        "#Then we open the ROOT file using the TFile command. - note you need to make this file path correct for your own setup!\n",
        "f = ROOT.TFile.Open(\"/content/drive/MyDrive/Collab Notebooks/B2HHH_MagnetUp.root\", \"READONLY\")\n",
        "#From our file, we have to extract the DecayTree \n",
        "tree=f.Get(\"data\")\n",
        "#Now we can grab some variables as a test:\n",
        "ymomentum = ROOT.RooRealVar(\"H1_PY\",\"H1 Y Momentum\",-3000,3000,\"MeV/c\")\n",
        "xmomentum = ROOT.RooRealVar(\"H1_PX\",\"H1 X Momentum\",-3000,3000,\"MeV/c\")\n",
        "zmomentum = ROOT.RooRealVar(\"H1_PZ\",\"H1 Z Momentum\",-3000,3000,\"MeV/c\")\n",
        "# We then create a dataset for us to play with\n",
        "data = ROOT.RooDataSet(\"data\",\"data set\", tree, ROOT.RooArgSet(xmomentum,ymomentum,zmomentum), \"1==1\")\n",
        "# Now we create a canvas, plot our data onto the canvas and draw it:\n",
        "c = ROOT.TCanvas(\"c\",\"c\")\n",
        "frame = ymomentum.frame()\n",
        "data.plotOn(frame)\n",
        "frame.Draw()\n",
        "c.Draw()"
      ],
      "execution_count": null,
      "outputs": [
        {
          "output_type": "stream",
          "text": [
            "[#1] INFO:Eval -- RooAbsReal::attachToTree(H1_PX) TTree Float_t branch H1_PX will be converted to double precision\n",
            "[#1] INFO:Eval -- RooAbsReal::attachToTree(H1_PY) TTree Float_t branch H1_PY will be converted to double precision\n",
            "[#1] INFO:Eval -- RooAbsReal::attachToTree(H1_PZ) TTree Float_t branch H1_PZ will be converted to double precision\n",
            "[#1] INFO:Eval -- RooTreeDataStore::loadValues(data) Ignored 3305139 out of range events\n"
          ],
          "name": "stdout"
        },
        {
          "output_type": "display_data",
          "data": {
            "image/png": "[encoded data removed]",
            "text/plain": [
              "<IPython.core.display.Image object>"
            ]
          },
          "metadata": {
            "tags": []
          }
        }
      ]
    },
    {
      "cell_type": "markdown",
      "metadata": {
        "id": "4e4n4iS3IJZi"
      },
      "source": [
        "#Why are we here?\n",
        "\n",
        "This week is about finding out something about one of the fundemental questions in physics. Why do we have \"stuff\".\n",
        "\n",
        "According to many of our models, and according to many measurements in particle physics, matter and anti-matter appear to be produced in equal quantities.\n",
        "\n",
        "However, when one looks at the Universe in general, we have more matter than anti-matter left - so there need to be some processes where anti-matter and matter are not produced equally. You can find out more about the Matter/Anti-Matter Asymmetry [here](http://press.web.cern.ch/backgrounders/matterantimatter-asymmetry)\n",
        "\n",
        "One place we look for this asymetry is in [charge-partity (CP) violation](https://www.symmetrymagazine.org/article/october-2005/explain-it-in-60-seconds) in particle physics processes. This essentially says that the processes that happen in the anti-particle version of a decay do not **exactly** match to the processes that happen in the particle version of the decay.\n",
        "\n",
        "\n",
        "\n",
        "---\n",
        "\n",
        "\n",
        "\n",
        "At LHCb, we produce both particle of the  B<sup>+</sup> meson and it's antiparticle the B<sup>-</sup> meson.\n",
        "\n",
        "We cannot detect these mesons directly. They decay into other things before we have a chance to measure them properly. So we collect data on the decay products, often called daughter particles. There are 524 [documented](http://pdg.lbl.gov/2014/listings/rpp2014-list-B-plus-minus.pdf) ways that the B<sup>+/-</sup> decays into various combinations. In order to simplify the process, we choose decay combinations that are convenient or have particular properties.\n",
        "\n",
        "In this analysis, we will take the process:-\n",
        "\n",
        "B<sup>+</sup>->K<sup>+</sup> + K<sup>+</sup>  + K<sup>-</sup>\n",
        "\n",
        "or\n",
        "\n",
        "B<sup>-</sup>->K<sup>-</sup> + K<sup>-</sup>  + K<sup>+</sup>\n",
        "\n",
        "\n",
        "To do so, we are given the following data for each event in our system:-\n",
        "\n",
        "![alt text](https://raw.githubusercontent.com/lhcb/opendata-project/80d64a3796e593fc8f9b257e85f32ae2e54f131f/Images/Variables.png)\n",
        "\n",
        "Here, H1 is the detected daughter particle (so a Kaon or a Pion), **not** the B-meson - the mother particle. Normally we would have to do some reconstruction from the decay products (the Daughters) to the Mother to be able to make some conclusions.\n",
        "\n",
        "Let's get started with working with this data:"
      ]
    },
    {
      "cell_type": "markdown",
      "metadata": {
        "id": "LOhfj7kfP-ao"
      },
      "source": [
        "For our analysis, the momentum of each of the daughter particles is split into the three cartesian components. We have combined these into a variable called H1_Ptot"
      ]
    },
    {
      "cell_type": "code",
      "metadata": {
        "id": "Y4keyoyTPjsK",
        "colab": {
          "base_uri": "https://localhost:8080/"
        },
        "outputId": "7e9e2169-c13d-4649-b556-abc1939a3c27"
      },
      "source": [
        "#Here make a plot of the Total momentum of each of the three daughters\r\n",
        "\r\n",
        "########## h1 Daughter momentum ###############################\r\n",
        "a = ROOT.TCanvas(\"a\",\"a\")\r\n",
        "tree.Draw(\"H1_Ptot>>H1 Daughter Momentum(500,0,250000)\")\r\n",
        "histogram = ROOT.gDirectory.Get(\"H1 Daughter Momentum\")\r\n",
        "a.Draw()\r\n",
        "\r\n",
        "########## h2 Daughter momentum ###############################\r\n",
        "b = ROOT.TCanvas(\"b\",\"b\")\r\n",
        "tree.Draw(\"H2_Ptot>>H2 Daughter Momentum(500,0,100000)\")\r\n",
        "histogram = ROOT.gDirectory.Get(\"H2 Daughter Momentum\")\r\n",
        "b.Draw()\r\n",
        "\r\n",
        "########## h3 Daughter momentum ###############################\r\n",
        "c = ROOT.TCanvas(\"c\",\"c\")\r\n",
        "tree.Draw(\"H3_Ptot>>H3 Daughter Momentum(500,0,450000)\")\r\n",
        "histogram = ROOT.gDirectory.Get(\"H3 Daughter Momentum\")\r\n",
        "c.Draw()\r\n"
      ],
      "execution_count": null,
      "outputs": [
        {
          "output_type": "stream",
          "text": [
            "Warning in <TCanvas::Constructor>: Deleting canvas with same name: a\n",
            "Warning in <TCanvas::Constructor>: Deleting canvas with same name: b\n",
            "Warning in <TCanvas::Constructor>: Deleting canvas with same name: c\n"
          ],
          "name": "stderr"
        },
        {
          "output_type": "display_data",
          "data": {
            "image/png": "[encoded data removed]",
            "text/plain": [
              "<IPython.core.display.Image object>"
            ]
          },
          "metadata": {
            "tags": []
          }
        },
        {
          "output_type": "display_data",
          "data": {
            "image/png": "[encoded data removed]",
            "text/plain": [
              "<IPython.core.display.Image object>"
            ]
          },
          "metadata": {
            "tags": []
          }
        },
        {
          "output_type": "display_data",
          "data": {
            "image/png": "[encoded data removed]",
            "text/plain": [
              "<IPython.core.display.Image object>"
            ]
          },
          "metadata": {
            "tags": []
          }
        }
      ]
    },
    {
      "cell_type": "markdown",
      "metadata": {
        "id": "C1lXLMCoR1Gi"
      },
      "source": [
        "Now plot the total momentum for the mother (M_Ptot)"
      ]
    },
    {
      "cell_type": "code",
      "metadata": {
        "id": "6kdbiNpPR1QG",
        "colab": {
          "base_uri": "https://localhost:8080/"
        },
        "outputId": "473f3a1d-cf2f-4e72-981e-ccd163fa640f"
      },
      "source": [
        "#use the histogram plotting tools, plot the momentum of the mother\r\n",
        "\r\n",
        "c = ROOT.TCanvas(\"c\",\"c\")\r\n",
        "tree.Draw(\"M_Ptot>>Total momentum of the mother(700,0,550000)\")\r\n",
        "histogram = ROOT.gDirectory.Get(\"Total momentum of the mother\")\r\n",
        "c.Draw()"
      ],
      "execution_count": null,
      "outputs": [
        {
          "output_type": "stream",
          "text": [
            "Warning in <TCanvas::Constructor>: Deleting canvas with same name: c\n"
          ],
          "name": "stderr"
        },
        {
          "output_type": "display_data",
          "data": {
            "image/png": "[encoded data removed]",
            "text/plain": [
              "<IPython.core.display.Image object>"
            ]
          },
          "metadata": {
            "tags": []
          }
        }
      ]
    },
    {
      "cell_type": "markdown",
      "metadata": {
        "id": "Gj5qv5kqSMIF"
      },
      "source": [
        "Let's take a look at the whole data file that is available to us by looking at one specific entry - number 45"
      ]
    },
    {
      "cell_type": "code",
      "metadata": {
        "id": "QMkih_6SSG8I",
        "colab": {
          "base_uri": "https://localhost:8080/"
        },
        "outputId": "85bbb755-3158-4c80-b68d-697311c987cb"
      },
      "source": [
        "tree.Show(45)"
      ],
      "execution_count": null,
      "outputs": [
        {
          "output_type": "stream",
          "text": [
            "======> EVENT:45\n",
            " B_FlightDistance = 4.71407\n",
            " B_VertexChi2    = 11.5278\n",
            " H1_PX           = 133.376\n",
            " H1_PY           = -1293.52\n",
            " H1_PZ           = 33534.2\n",
            " H1_ProbK        = 0.00735235\n",
            " H1_ProbPi       = 0.204907\n",
            " H1_Charge       = 1\n",
            " H1_IPChi2       = 22.9885\n",
            " H1_isMuon       = 0\n",
            " H2_PX           = 518.943\n",
            " H2_PY           = -1966.2\n",
            " H2_PZ           = 52184.7\n",
            " H2_ProbK        = 0.00482044\n",
            " H2_ProbPi       = 0.266655\n",
            " H2_Charge       = -1\n",
            " H2_IPChi2       = 20.5652\n",
            " H2_isMuon       = 0\n",
            " H3_PX           = 1383.62\n",
            " H3_PY           = -2008.35\n",
            " H3_PZ           = 12154\n",
            " H3_ProbK        = 0.0800247\n",
            " H3_ProbPi       = 0.403711\n",
            " H3_Charge       = -1\n",
            " H3_IPChi2       = 1584.95\n",
            " H3_isMuon       = 0\n",
            " H1_Ptot         = 33559.4\n",
            " H1_type         = 1\n",
            " H1_E            = 33559.7\n",
            " H2_Ptot         = 52224.4\n",
            " H2_type         = 1\n",
            " H2_E            = 52224.5\n",
            " H3_Ptot         = 12396.2\n",
            " H3_type         = 1\n",
            " H3_E            = 12397\n",
            " M_Ptot          = 98035.7\n",
            " M_E             = 98181.3\n",
            " M_m0            = 5343.69\n"
          ],
          "name": "stdout"
        }
      ]
    },
    {
      "cell_type": "markdown",
      "metadata": {
        "id": "w3sqwtNTUEJd"
      },
      "source": [
        "We have now completed the initial steps and begun to work through what we need to with the data. This is a perfect moment to take a coffee!"
      ]
    },
    {
      "cell_type": "markdown",
      "metadata": {
        "id": "6RhWWqt3a8_e"
      },
      "source": [
        "Having discovered all of the relevant information about our daughter particles, we need to combine the measurements about them into a single mother - which will be our B<sup>+</sup> or our B<sup>-</sup>\r\n",
        "\r\n",
        "Having found our momentum and energy, we can use these quantities to find our experimental mass (not the theoretical mass as we have used for the reconstruction).\r\n",
        "\r\n",
        "When we calculate this, we will get a distribution of masses. This is due to errors in the measurements made either by the detector, or in the experiment itself. We hope to have a reasonably narrow peak to work with, but, sometimes this is not possible.\r\n",
        "\r\n",
        "Additionally there will be other particles in the detector - which means our daughters might have come from two or even three different processes. Events which don't come from the same process will give a higher or lower mass than we are looking for. This is typically called the *background* while events which come from our event of interest are called the *signal*"
      ]
    },
    {
      "cell_type": "code",
      "metadata": {
        "colab": {
          "base_uri": "https://localhost:8080/",
          "height": 507
        },
        "id": "HAK3NQxASOOU",
        "outputId": "96c468d9-f7bc-40e3-94d1-a44eb6a6519e"
      },
      "source": [
        "#Now plot a histogram of the range of masses of the B meson.\r\n",
        "c = ROOT.TCanvas(\"c\",\"c\")\r\n",
        "tree.Draw(\"M_m0>>B menson mass(500,1500,6500)\")\r\n",
        "\r\n",
        "#number of bins\r\n",
        "histogram = ROOT.gDirectory.Get(\"sth\")\r\n",
        "#histogram.SetLineColor(4)\r\n",
        "c.Draw()"
      ],
      "execution_count": null,
      "outputs": [
        {
          "output_type": "stream",
          "text": [
            "Warning in <TCanvas::Constructor>: Deleting canvas with same name: c\n"
          ],
          "name": "stderr"
        },
        {
          "output_type": "display_data",
          "data": {
            "image/png": "[encoded data removed]",
            "text/plain": [
              "<IPython.core.display.Image object>"
            ]
          },
          "metadata": {
            "tags": []
          }
        }
      ]
    },
    {
      "cell_type": "markdown",
      "metadata": {
        "id": "MWGFKFnXb0RP"
      },
      "source": [
        "We know that some of our particles are the B+ and some are the B- particle. There will also be some particles in our system that are not coming from a genuine B+/- or are a B+/- but are not constructed from Kaons.\r\n",
        "\r\n",
        "We have some tools available to help:-\r\n",
        "\r\n",
        "  *  During detection, software attributes the probability of a particle being a Kaon or a Pion (in the H1_ProbK or H1_ProbPi variable)\r\n",
        "  * The detector also knows if the particle was a Muon - since it has detectors specifically for these. So it can attribute a 0 or a 1 to this probability\r\n",
        "  * The reconstructed vertex has a some kind of quality associated with it (we call this the Vertex χ2 (this is the variable B_VertexChi2). This is the statistical measure that determines how well we found a single point to be the source of all three particles.\r\n",
        "\r\n"
      ]
    },
    {
      "cell_type": "markdown",
      "metadata": {
        "id": "fEpnSmH4b9HZ"
      },
      "source": [
        "In order to get a better result, we should select our data to have the properties we desire and make some rules (often called a selection) to cut away data we don't want to include for various reasons. e.g. we know we don't have any muons in our decay - so any time H1/H2/H3 are a muon they should be excluded. The other variables are not so clear - so we can plot them to make a decision."
      ]
    },
    {
      "cell_type": "code",
      "metadata": {
        "colab": {
          "base_uri": "https://localhost:8080/",
          "height": 589
        },
        "id": "qXLPEgAxbAgl",
        "outputId": "b96bda5a-ee76-48da-9fdd-43d1e53e5ed6"
      },
      "source": [
        "c = ROOT.TCanvas(\"H1_ProbK\", \"H1_ProbK\",800,600)\r\n",
        "\r\n",
        "tree.Draw(\"H1_ProbK\"+\">>H1_ProbK(100,0,1)\")\r\n",
        "tree.Draw(\"H2_ProbK\"+\">>H2_ProbK(100,0,1)\")\r\n",
        "tree.Draw(\"H3_ProbK\"+\">>H3_ProbK(100,0,1)\")\r\n",
        "\r\n",
        "histogramK1 = ROOT.gDirectory.Get(\"H1_ProbK\")\r\n",
        "histogramK1 .SetLineColor(2)\r\n",
        "\r\n",
        "\r\n",
        "histogramK2 = ROOT.gDirectory.Get(\"H2_ProbK\")\r\n",
        "histogramK2.SetLineColor(4)\r\n",
        "\r\n",
        "\r\n",
        "histogramK3 = ROOT.gDirectory.Get(\"H3_ProbK\")\r\n",
        "histogramK3.SetLineColor(8)\r\n",
        "\r\n",
        "histogramK1.Draw()\r\n",
        "histogramK2.Draw(\"same\")\r\n",
        "histogramK3.Draw(\"same\")\r\n",
        "\r\n",
        "c.Draw()"
      ],
      "execution_count": null,
      "outputs": [
        {
          "output_type": "display_data",
          "data": {
            "image/png": "[encoded data removed]",
            "text/plain": [
              "<IPython.core.display.Image object>"
            ]
          },
          "metadata": {
            "tags": []
          }
        }
      ]
    },
    {
      "cell_type": "code",
      "metadata": {
        "colab": {
          "base_uri": "https://localhost:8080/"
        },
        "id": "_hv2bf0Xa8o2",
        "outputId": "bafeac43-0ffc-4662-c986-c932a41df2d9"
      },
      "source": [
        "c = ROOT.TCanvas(\"H1_ProbPi\", \"H1_ProbPi\",800,600)\r\n",
        "\r\n",
        "tree.Draw(\"H1_ProbPi\"+\">>H1_ProbPi(100,0,1)\")\r\n",
        "tree.Draw(\"H2_ProbPi\"+\">>H2_ProbPi(100,0,1)\")\r\n",
        "tree.Draw(\"H3_ProbPi\"+\">>H3_ProbPi(100,0,1)\")\r\n",
        "\r\n",
        "histogramPi1 = ROOT.gDirectory.Get(\"H1_ProbPi\")\r\n",
        "histogramPi1 .SetLineColor(2)\r\n",
        "\r\n",
        "\r\n",
        "histogramPi2 = ROOT.gDirectory.Get(\"H2_ProbPi\")\r\n",
        "histogramPi2.SetLineColor(6)\r\n",
        "\r\n",
        "\r\n",
        "histogramPi3 = ROOT.gDirectory.Get(\"H3_ProbPi\")\r\n",
        "histogramPi3.SetLineColor(8)\r\n",
        "\r\n",
        "histogramPi1.Draw()\r\n",
        "histogramPi2.Draw(\"same\")\r\n",
        "histogramPi3.Draw(\"same\")\r\n",
        "\r\n",
        "c.Draw()"
      ],
      "execution_count": null,
      "outputs": [
        {
          "output_type": "display_data",
          "data": {
            "image/png": "[encoded data removed]",
            "text/plain": [
              "<IPython.core.display.Image object>"
            ]
          },
          "metadata": {
            "tags": []
          }
        }
      ]
    },
    {
      "cell_type": "code",
      "metadata": {
        "colab": {
          "base_uri": "https://localhost:8080/",
          "height": 489
        },
        "id": "LKIVkXSFZ4qH",
        "outputId": "a8265def-e295-4dec-b1ce-ea5c7f0a8f1e"
      },
      "source": [
        "#For all our particles, make a plot of the B_VertexChi2\r\n",
        "c = ROOT.TCanvas(\"c\",\"c\")\r\n",
        "tree.Draw(\"B_VertexChi2>>B vertex(400,0,1)\")\r\n",
        "histogram = ROOT.gDirectory.Get(\"sth\")\r\n",
        "c.Draw()"
      ],
      "execution_count": null,
      "outputs": [
        {
          "output_type": "display_data",
          "data": {
            "image/png": "[encoded data removed]",
            "text/plain": [
              "<IPython.core.display.Image object>"
            ]
          },
          "metadata": {
            "tags": []
          }
        }
      ]
    },
    {
      "cell_type": "markdown",
      "metadata": {
        "id": "DWmxBkZ0cDx1"
      },
      "source": [
        "Using these plots, we can now make a preselection string. This is a text string that looks like "
      ]
    },
    {
      "cell_type": "code",
      "metadata": {
        "id": "U1IGKyZXcGJP"
      },
      "source": [
        "#This example is for each daughter particle to have a Probability of being a Pion being more than 90% and H1 to not be a muon\r\n",
        "#This is not a good choice of selection - you should make your own :)"
      ],
      "execution_count": null,
      "outputs": []
    },
    {
      "cell_type": "code",
      "metadata": {
        "id": "MxD7JMeicMu0"
      },
      "source": [
        "#To apply the selection - we can use the copytree command:\r\n",
        "selection=(\"H1_ProbK>0.6 & H2_ProbK>0.6 & H3_ProbK>0.6\")\r\n",
        "CutTree=tree.CopyTree(selection)\r\n",
        "\r\n",
        "#So now we take our data in tree and apply selection to it (so only events which comply with those rules are kept) and put the new data in CutTree"
      ],
      "execution_count": null,
      "outputs": []
    },
    {
      "cell_type": "code",
      "metadata": {
        "id": "hmmsoUwEcOir",
        "colab": {
          "base_uri": "https://localhost:8080/"
        },
        "outputId": "f8481663-dd1c-4832-cad5-5d8a57488a88"
      },
      "source": [
        "#Now as a good check, we should see the effect of applying our cuts.\r\n",
        "c = ROOT.TCanvas(\"c\",\"c\")\r\n",
        "tree.Draw(\"M_m0>>Mass after the cut(500,1500,6500)\")\r\n",
        "histogram = ROOT.gDirectory.Get(\"sth\")\r\n",
        "c.Draw()\r\n",
        "\r\n",
        "#What do you notice about your histogram now?\r\n",
        "#The scale of Y axis has changed.\r\n",
        "\r\n"
      ],
      "execution_count": null,
      "outputs": [
        {
          "output_type": "stream",
          "text": [
            "Warning in <TCanvas::Constructor>: Deleting canvas with same name: c\n"
          ],
          "name": "stderr"
        },
        {
          "output_type": "display_data",
          "data": {
            "image/png": "[encoded data removed]",
            "text/plain": [
              "<IPython.core.display.Image object>"
            ]
          },
          "metadata": {
            "tags": []
          }
        }
      ]
    },
    {
      "cell_type": "code",
      "metadata": {
        "colab": {
          "base_uri": "https://localhost:8080/",
          "height": 507
        },
        "id": "u3UApA6aoO5F",
        "outputId": "376d9fd6-2d95-47ea-971b-2d7c2fc6a7d8"
      },
      "source": [
        "c = ROOT.TCanvas(\"c\",\"c\")\r\n",
        "CutTree.Draw(\"M_m0>>Mass before the cut(500,1500,6500)\")\r\n",
        "histogram = ROOT.gDirectory.Get(\"sth\")\r\n",
        "c.Draw()"
      ],
      "execution_count": null,
      "outputs": [
        {
          "output_type": "stream",
          "text": [
            "Warning in <TCanvas::Constructor>: Deleting canvas with same name: c\n"
          ],
          "name": "stderr"
        },
        {
          "output_type": "display_data",
          "data": {
            "image/png": "[encoded data removed]",
            "text/plain": [
              "<IPython.core.display.Image object>"
            ]
          },
          "metadata": {
            "tags": []
          }
        }
      ]
    },
    {
      "cell_type": "code",
      "metadata": {
        "colab": {
          "base_uri": "https://localhost:8080/"
        },
        "id": "5MWcGz-J-Qnu",
        "outputId": "a12f6fff-1235-46d2-8ffe-f1058410535c"
      },
      "source": [
        "##Printing mass before and after the cut on one canvas\r\n",
        "\r\n",
        "c = ROOT.TCanvas(\"c\",\"c\")\r\n",
        "tree.Draw(\"M_m0>>Mass before the cut(500,1500,6500)\")\r\n",
        "CutTree.Draw(\"M_m0>>Mass after the cut(500,1500,6500)\")\r\n",
        "\r\n",
        "histogram1 = ROOT.gDirectory.Get(\"Mass before the cut\")\r\n",
        "histogram1.SetLineColor(4)\r\n",
        "\r\n",
        "histogram2 = ROOT.gDirectory.Get(\"Mass after the cut\")\r\n",
        "histogram2.SetLineColor(2)\r\n",
        "\r\n",
        "histogram1.Draw()\r\n",
        "histogram2.Draw(\"same\")\r\n",
        "\r\n",
        "c.Draw()"
      ],
      "execution_count": null,
      "outputs": [
        {
          "output_type": "stream",
          "text": [
            "Warning in <TCanvas::Constructor>: Deleting canvas with same name: c\n"
          ],
          "name": "stderr"
        },
        {
          "output_type": "display_data",
          "data": {
            "image/png": "[encoded data removed]",
            "text/plain": [
              "<IPython.core.display.Image object>"
            ]
          },
          "metadata": {
            "tags": []
          }
        }
      ]
    },
    {
      "cell_type": "markdown",
      "metadata": {
        "id": "N1tResqvcMgQ"
      },
      "source": [
        "#How do we count the number of events?\r\n",
        "\r\n",
        "We now have a histogram of events that we have reconstructed as a B meson. But some of these events are caused by a co-incidence of events which would still occur if there were no B mesons actually produced. We call this the background. Background and signal are indistinguishable now as the detector cannot tell the difference and our cuts were unable to remove the events for physics reasons. We can do some statistical analysis, if we know the approximate shapes of our signal and our background. Just like a least-squares fitting we can run a fit routine to minimise the error between the fitted curve and our data. As an example, if we know our data has an exponential background and a gaussian signal:\r\n",
        "\r\n",
        "![Gaussian+Exp Background](https://twiki.cern.ch/twiki/pub/RooStats/RooStatsTutorialsJune2013/GausExpModelFit.png)\r\n",
        "\r\n",
        "Here the red line represents our signal, the blue dotted line is our background and the solid blue line is our combined curve. The graph also shows the number of signal events and the number of background events. The signal now is a tiny fraction of the total data shown in the plot.\r\n",
        "\r\n",
        "In order to do this, we need to build a fit model, around which the software can try to fit our data.\r\n",
        "\r\n",
        "We use RooFit for this, which includes:\r\n",
        "* Gaussian\r\n",
        "* Exponential\r\n",
        "* Chebychev\r\n",
        "* Crystal Ball\r\n",
        "* Breit-Wigner\r\n",
        "\r\n",
        "As well as several other choices.\r\n",
        "\r\n",
        "Typically exponential and Chebychev functions are used for background and Gaussian, Crystal Ball and Breit-Wigner are used for signal. We can also combine them (e.g. 1 crystal ball, 1 gaussian, 1 exponential) in various ways."
      ]
    },
    {
      "cell_type": "code",
      "metadata": {
        "id": "R_7q_HY1qhiS"
      },
      "source": [
        "#define physical measurment that we want to fit using RooRealVar\r\n",
        "# var = ROOT.RooRealVar =(\"Variable from Python\", \"Nickname\",Min, Max, Units)\r\n",
        "mass = ROOT.RooRealVar(\"M_m0\",\"Mass\",5100,5500,\"MeV/C^{2}\")\r\n",
        "\r\n",
        "#passing the rest of the variables into the model\r\n",
        "#For the RooRealVar the last three parameters are given, \"starting value\" and min/max values\r\n",
        "gaussMean = ROOT.RooRealVar(\"Mean\",\"Mean\",1000,5000,5300)\r\n",
        "gaussWidth = ROOT.RooRealVar(\"Width\",\"Width\",40,0,7000)\r\n",
        "\r\n",
        "#Now we have enough to make our Model for the signal:\r\n",
        "\r\n",
        "Gauss=ROOT.RooGaussian(\"Gaussian Signal\",\"Gauss\",mass,gaussMean,gaussWidth)\r\n",
        "Gauss_Norm= ROOT.RooRealVar(\"Gauss_Norm\",\"Signal Yield\", tree.GetEntries()/30, 0, tree.GetEntries() * 3)\r\n",
        "\r\n",
        "#We also need a background, so let's use a (simple) exponential:\r\n",
        "exponent=ROOT.RooRealVar(\"exponent\", \"C\", -0.02, -2, +2)\r\n",
        "exp_Norm= ROOT.RooRealVar(\"exp_Norm\",\"Background Yield\", tree.GetEntries()/30, 0, tree.GetEntries() * 2)\r\n",
        "\r\n",
        "#Define the  model for the background:\r\n",
        "\r\n",
        "Bkgnd=ROOT.RooExponential(\"Exponential Background\",\"Bkgnd\",mass,exponent)\r\n",
        "\r\n",
        "#Now we need to combine these two functions into a single PDF (probability density function)\r\n",
        "#and we need to add the normalisation factors at the end as scaling factors\r\n",
        "\r\n",
        "model=ROOT.RooAddPdf(\"Full Model\",\"model\",ROOT.RooArgList(Gauss,Bkgnd),ROOT.RooArgList(Gauss_Norm, exp_Norm) )"
      ],
      "execution_count": null,
      "outputs": []
    },
    {
      "cell_type": "code",
      "metadata": {
        "id": "PL-qVvs-dw86",
        "colab": {
          "base_uri": "https://localhost:8080/"
        },
        "outputId": "5bf8a6d5-23fb-4dd6-b762-0451a8fb7fe0"
      },
      "source": [
        "#Put our data set into a RooDataSet structure\r\n",
        "data_to_fit=ROOT.RooDataSet(\"Data Set\",\"data_to_fit\", CutTree, ROOT.RooArgSet(mass))\r\n",
        "\r\n",
        "#Then we can do the fitting:\r\n",
        "model.fitTo(data_to_fit)\r\n",
        "\r\n",
        "#if everything went well, you will see the outputs of RooFit below"
      ],
      "execution_count": null,
      "outputs": [
        {
          "output_type": "execute_result",
          "data": {
            "text/plain": [
              "<ROOT.RooFitResult object at 0x(nil)>"
            ]
          },
          "metadata": {
            "tags": []
          },
          "execution_count": 239
        },
        {
          "output_type": "stream",
          "text": [
            "[#1] INFO:Eval -- RooAbsReal::attachToTree(M_m0) TTree Float_t branch M_m0 will be converted to double precision\n",
            "[#1] INFO:Eval -- RooTreeDataStore::loadValues(Data Set) Ignored 1321 out of range events\n",
            "[#1] INFO:Minization -- p.d.f. provides expected number of events, including extended term in likelihood.\n",
            "[#1] INFO:Minization -- RooMinimizer::optimizeConst: activating const optimization\n",
            "[#1] INFO:Minization --  The following expressions will be evaluated in cache-and-track mode: (Gaussian Signal,Exponential Background)\n",
            " **********\n",
            " **  217 **SET PRINT           1\n",
            " **********\n",
            " **********\n",
            " **  218 **SET NOGRAD\n",
            " **********\n",
            " PARAMETER DEFINITIONS:\n",
            "    NO.   NAME         VALUE      STEP SIZE      LIMITS\n",
            "     1 Gauss_Norm   1.14006e+05  5.70030e+04    0.00000e+00  1.02606e+07\n",
            " MINUIT WARNING IN PARAM DEF\n",
            " ============== LIMITS ON PARAM1 TOO FAR APART.\n",
            " PARAMETER DEFINITIONS:\n",
            "    NO.   NAME         VALUE      STEP SIZE      LIMITS\n",
            "     2 Mean         5.00000e+03  3.00000e+01    5.00000e+03  5.30000e+03\n",
            " MINUIT WARNING IN PARAM DEF\n",
            " ============== STARTING VALUE IS AT LIMIT.\n",
            " MINUIT WARNING IN PARAMETR\n",
            " ============== VARIABLE2 IS AT ITS LOWER ALLOWED LIMIT.\n",
            " MINUIT WARNING IN PARAMETR\n",
            " ============== VARIABLE2 BROUGHT BACK INSIDE LIMITS.\n",
            "     3 Width        4.00000e+01  2.00000e+01    0.00000e+00  7.00000e+03\n",
            "     4 exp_Norm     1.14006e+05  5.70030e+04    0.00000e+00  6.84039e+06\n",
            "     5 exponent    -2.00000e-02  4.00000e-01   -2.00000e+00  2.00000e+00\n",
            " **********\n",
            " **  219 **SET ERR         0.5\n",
            " **********\n",
            " **********\n",
            " **  220 **SET PRINT           1\n",
            " **********\n",
            " **********\n",
            " **  221 **SET STR           1\n",
            " **********\n",
            " NOW USING STRATEGY  1: TRY TO BALANCE SPEED AGAINST RELIABILITY\n",
            " **********\n",
            " **  222 **MIGRAD        2500           1\n",
            " **********\n",
            " FIRST CALL TO USER FUNCTION AT NEW START POINT, WITH IFLAG=4.\n",
            " MINUIT WARNING IN MIGrad    \n",
            " ============== VARIABLE2 IS AT ITS LOWER ALLOWED LIMIT.\n",
            " START MIGRAD MINIMIZATION.  STRATEGY  1.  CONVERGENCE WHEN EDM .LT. 1.00e-03\n",
            " FCN=181352 FROM MIGRAD    STATUS=INITIATE       85 CALLS          86 TOTAL\n",
            "                     EDM= unknown      STRATEGY= 1      NO ERROR MATRIX       \n",
            "  EXT PARAMETER               CURRENT GUESS       STEP         FIRST   \n",
            "  NO.   NAME      VALUE            ERROR          SIZE      DERIVATIVE \n",
            "   1  Gauss_Norm   1.14006e+05   5.70030e+04   0.00000e+00   1.03364e+06\n",
            "   2  Mean         5.28194e+03   3.00000e+01   0.00000e+00  -2.55845e+03\n",
            "   3  Width        1.67196e+01   2.00000e+01   0.00000e+00   7.22268e+03\n",
            "   4  exp_Norm     1.14006e+05   5.70030e+04   0.00000e+00   8.60484e+05\n",
            "   5  exponent    -3.21640e-03   4.00000e-01   8.39197e-03  -9.84716e+02\n",
            "                               ERR DEF= 0.5\n",
            " MIGRAD MINIMIZATION HAS CONVERGED.\n",
            " FCN=-18186.9 FROM MIGRAD    STATUS=CONVERGED     171 CALLS         172 TOTAL\n",
            "                     EDM=9.10774e-08    STRATEGY= 1  ERROR MATRIX UNCERTAINTY   2.2 per cent\n",
            "  EXT PARAMETER                                   STEP         FIRST   \n",
            "  NO.   NAME      VALUE            ERROR          SIZE      DERIVATIVE \n",
            "   1  Gauss_Norm   5.14367e+03   7.51885e+01  -3.27298e-06  -7.73211e-01\n",
            "   2  Mean         5.28477e+03   2.71244e-01   3.81958e-05   4.34348e-02\n",
            "   3  Width        1.77645e+01   2.20371e-01  -2.47573e-06  -6.17073e-02\n",
            "   4  exp_Norm     1.27732e+03   4.22470e+01   2.91575e-06   3.48451e-01\n",
            "   5  exponent    -4.58340e-03   2.69587e-04  -1.53277e-07  -1.10429e+00\n",
            "                               ERR DEF= 0.5\n",
            " EXTERNAL ERROR MATRIX.    NDIM=  25    NPAR=  5    ERR DEF=0.5\n",
            "  5.653e+03 -3.306e-01  2.514e+00 -5.308e+02 -1.508e-03 \n",
            " -3.306e-01  7.357e-02 -2.524e-03  3.560e-01 -3.614e-06 \n",
            "  2.514e+00 -2.524e-03  4.856e-02 -2.154e+00 -4.702e-06 \n",
            " -5.308e+02  3.560e-01 -2.154e+00  1.785e+03  1.337e-03 \n",
            " -1.508e-03 -3.614e-06 -4.702e-06  1.337e-03  7.268e-08 \n",
            " PARAMETER  CORRELATION COEFFICIENTS  \n",
            "       NO.  GLOBAL      1      2      3      4      5\n",
            "        1  0.20957   1.000 -0.016  0.152 -0.167 -0.074\n",
            "        2  0.07370  -0.016  1.000 -0.042  0.031 -0.049\n",
            "        3  0.26482   0.152 -0.042  1.000 -0.231 -0.079\n",
            "        4  0.28338  -0.167  0.031 -0.231  1.000  0.117\n",
            "        5  0.14886  -0.074 -0.049 -0.079  0.117  1.000\n",
            " **********\n",
            " **  223 **SET ERR         0.5\n",
            " **********\n",
            " **********\n",
            " **  224 **SET PRINT           1\n",
            " **********\n",
            " **********\n",
            " **  225 **HESSE        2500\n",
            " **********\n",
            " COVARIANCE MATRIX CALCULATED SUCCESSFULLY\n",
            " FCN=-18186.9 FROM HESSE     STATUS=OK             39 CALLS         211 TOTAL\n",
            "                     EDM=1.8101e-07    STRATEGY= 1      ERROR MATRIX ACCURATE \n",
            "  EXT PARAMETER                                INTERNAL      INTERNAL  \n",
            "  NO.   NAME      VALUE            ERROR       STEP SIZE       VALUE   \n",
            "   1  Gauss_Norm   5.14367e+03   7.52515e+01   2.99194e-05  -1.52601e+00\n",
            "   2  Mean         5.28477e+03   2.71527e-01   3.83046e-04  -5.16694e+00\n",
            "   3  Width        1.77645e+01   2.27074e-01   5.77666e-05  -1.47000e+00\n",
            "   4  exp_Norm     1.27732e+03   4.23854e+01   4.03877e-05  -1.54347e+00\n",
            "   5  exponent    -4.58340e-03   2.72515e-04   1.25340e-05  -2.29170e-03\n",
            "                               ERR DEF= 0.5\n",
            " EXTERNAL ERROR MATRIX.    NDIM=  25    NPAR=  5    ERR DEF=0.5\n",
            "  5.663e+03 -3.346e-01  2.348e+00 -5.190e+02 -1.405e-03 \n",
            " -3.346e-01  7.373e-02 -2.153e-03  3.346e-01 -3.406e-06 \n",
            "  2.348e+00 -2.153e-03  5.156e-02 -2.348e+00 -6.112e-06 \n",
            " -5.190e+02  3.346e-01 -2.348e+00  1.797e+03  1.406e-03 \n",
            " -1.405e-03 -3.406e-06 -6.112e-06  1.406e-03  7.426e-08 \n",
            " PARAMETER  CORRELATION COEFFICIENTS  \n",
            "       NO.  GLOBAL      1      2      3      4      5\n",
            "        1  0.19624   1.000 -0.016  0.137 -0.163 -0.068\n",
            "        2  0.06716  -0.016  1.000 -0.035  0.029 -0.046\n",
            "        3  0.27277   0.137 -0.035  1.000 -0.244 -0.099\n",
            "        4  0.29214  -0.163  0.029 -0.244  1.000  0.122\n",
            "        5  0.15613  -0.068 -0.046 -0.099  0.122  1.000\n",
            "[#1] INFO:Minization -- RooMinimizer::optimizeConst: deactivating const optimization\n"
          ],
          "name": "stdout"
        }
      ]
    },
    {
      "cell_type": "code",
      "metadata": {
        "id": "bUhgxlRGd4XO",
        "colab": {
          "base_uri": "https://localhost:8080/"
        },
        "outputId": "7b9b7340-26d9-4157-e858-16d6b1b33156"
      },
      "source": [
        "#Now to plot it all\r\n",
        "c1=ROOT.TCanvas(\"c1\",\"c1\")\r\n",
        "frame=mass.frame()\r\n",
        "data_to_fit.plotOn(frame)\r\n",
        "model.plotOn(frame, ROOT.RooFit.Components(\"Gaussian Signal\"),ROOT.RooFit.LineColor(8),ROOT.RooFit.LineStyle(2))\r\n",
        "model.plotOn(frame, ROOT.RooFit.Components(\"Exponential Background\"),ROOT.RooFit.LineColor(46),ROOT.RooFit.LineStyle(2))\r\n",
        "model.plotOn(frame)\r\n",
        "frame.Draw()\r\n",
        "c1.Update()\r\n",
        "c1.Draw()"
      ],
      "execution_count": null,
      "outputs": [
        {
          "output_type": "stream",
          "text": [
            "[#1] INFO:Plotting -- RooAbsPdf::plotOn(Full Model) directly selected PDF components: (Gaussian Signal)\n",
            "[#1] INFO:Plotting -- RooAbsPdf::plotOn(Full Model) indirectly selected PDF components: ()\n",
            "[#1] INFO:Plotting -- RooAbsPdf::plotOn(Full Model) directly selected PDF components: (Exponential Background)\n",
            "[#1] INFO:Plotting -- RooAbsPdf::plotOn(Full Model) indirectly selected PDF components: ()\n"
          ],
          "name": "stdout"
        },
        {
          "output_type": "stream",
          "text": [
            "Warning in <TCanvas::Constructor>: Deleting canvas with same name: c1\n"
          ],
          "name": "stderr"
        },
        {
          "output_type": "display_data",
          "data": {
            "image/png": "[encoded data removed]",
            "text/plain": [
              "<IPython.core.display.Image object>"
            ]
          },
          "metadata": {
            "tags": []
          }
        }
      ]
    },
    {
      "cell_type": "markdown",
      "metadata": {
        "id": "60b4bs1od4M_"
      },
      "source": [
        "Using this structure, you can in theory build whatever models you like!\r\n",
        "\r\n",
        "Some recommendations (but not necessary to do all):-\r\n",
        "\r\n",
        "\r\n",
        "\r\n",
        "*   Gauss+Exponential (as above)\r\n",
        "*   Crystal Ball + Exponential\r\n",
        "*   Gauss+Crystal Ball+Exponential (now you need to weigh the two signal peaks and then the total signal against total background)\r\n",
        "*   Gauss+Chebychev\r\n",
        "*   Two Crystal Balls + Exponential"
      ]
    },
    {
      "cell_type": "markdown",
      "metadata": {
        "id": "vHivSaH1dwy7"
      },
      "source": [
        "So how good was the fit, and how many events do you have?\r\n",
        "\r\n",
        "We can use the .getValV() function on our signal and background *normalisation* components, e.g. Gauss_Norm=Gauss.getValV()\r\n",
        "\r\n",
        "To find the error (on this number) we can use .getError()\r\n",
        "\r\n",
        "Neither of these measures would tell us if this was a good fit or not. Normally we use a χ2 test to do so - this is built into the image we made (so we can do frame.chiSquare() to get this data)\r\n",
        "\r\n",
        "For each model you made, print the signal and background yields (with errors) and report the χ2"
      ]
    },
    {
      "cell_type": "code",
      "metadata": {
        "colab": {
          "base_uri": "https://localhost:8080/"
        },
        "id": "T1EwNOqMOydU",
        "outputId": "3ffaf083-22fc-4e39-e1f8-713c0ad539be"
      },
      "source": [
        "print(Gauss_Norm.getValV())\r\n",
        "print(Gauss_Norm.getError())\r\n",
        "print(frame.chiSquare())"
      ],
      "execution_count": null,
      "outputs": [
        {
          "output_type": "stream",
          "text": [
            "5143.67092702\n",
            "75.251509025\n",
            "1.78976503719\n"
          ],
          "name": "stdout"
        }
      ]
    },
    {
      "cell_type": "markdown",
      "metadata": {
        "id": "ob2HARgWoTGe"
      },
      "source": [
        "#Counting\r\n",
        "\r\n",
        "So we have now loaded our data; we have reconstructed information about the mother B meson and we have cut away any data which looks like it might not be what we are looking for. We have then plotted histograms of the mass of the B meson and used this to fit a model, a function to describe the events there. We now have to identify which of our events belong to the B<sup>+</sup> and how many of them belong to B<sup>-</sup>.\r\n",
        "\r\n",
        "To do this, should split out data into two groups (and throw away data which doesn't comply with either decay)\r\n",
        "\r\n",
        "We will be looking for the events which are\r\n",
        "\r\n",
        "\r\n",
        "B<sup>+</sup>->K<sup>+</sup> + K<sup>+</sup>  + K<sup>-</sup>\r\n",
        "\r\n",
        "or\r\n",
        "\r\n",
        "B<sup>-</sup>->K<sup>-</sup> + K<sup>-</sup>  + K<sup>+</sup>\r\n",
        "\r\n",
        "We can look for the number of positive and negative charges in H1, H2 and H3 (using the variable ```H1_Charge``` etc.). If we have 0 or 3 positive charges, we should throw the event away and if we have 1 it should be assigned be a B<sup>-</sup>, with 2 it should be a B<sup>+</sup>"
      ]
    },
    {
      "cell_type": "code",
      "metadata": {
        "colab": {
          "base_uri": "https://localhost:8080/",
          "height": 73
        },
        "id": "XkfxIYmkELzU",
        "outputId": "163cd292-c518-4ba9-b59c-ebd260a1e22b"
      },
      "source": [
        "selPlus = ((\"H1_Charge + H2_Charge + H3_Charge == 1\"))\r\n",
        "selMinus = ((\"H1_Charge + H2_Charge + H3_Charge == -1\"))\r\n",
        "\r\n",
        "c = ROOT.TCanvas(\"c\",\"c\")\r\n",
        "CutTreeBPlus = CutTree.CopyTree(selPlus)\r\n",
        "CutTreeBMinus = CutTree.CopyTree(selMinus)\r\n",
        "\r\n",
        "CutTreeBPlus.Draw(\"M_m0\" + \">>M_m0+(250, 5000, 5400\")\r\n",
        "histogramPlus = ROOT.gDirectory.Get(\"M_m0+\")\r\n",
        "histogramPlus.SetLineColor(2)\r\n",
        "\r\n",
        "CutTreeBMinus.Draw(\"M_m0\" + \">>M_m0-(250, 5000,5400\")\r\n",
        "histogramMinus = ROOT.gDirectory.Get(\"M_m0-\")\r\n",
        "histogramMinus.SetLineColor(4)\r\n",
        "\r\n",
        "histogramPlus.Draw()\r\n",
        "histogramMinus.Draw(\"same\")\r\n",
        "\r\n",
        "c.Draw()"
      ],
      "execution_count": null,
      "outputs": [
        {
          "output_type": "stream",
          "text": [
            "Warning in <TCanvas::Constructor>: Deleting canvas with same name: c\n"
          ],
          "name": "stderr"
        },
        {
          "output_type": "display_data",
          "data": {
            "image/png": "[encoded data removed]",
            "text/plain": [
              "<IPython.core.display.Image object>"
            ]
          },
          "metadata": {
            "tags": []
          }
        }
      ]
    },
    {
      "cell_type": "markdown",
      "metadata": {
        "id": "y0kaCTgUSpPC"
      },
      "source": [
        "# For plus"
      ]
    },
    {
      "cell_type": "code",
      "metadata": {
        "id": "SxPXWhu0P0Iy"
      },
      "source": [
        "mass = ROOT.RooRealVar(\"M_m0\",\"Mass\",5200,5400,\"MeV/C^{2}\")\r\n",
        "\r\n",
        "gaussMean = ROOT.RooRealVar(\"Mean\",\"Mean\",1000,5000,5300)\r\n",
        "gaussWidth = ROOT.RooRealVar(\"Width\",\"Width\",40,0,7000)\r\n",
        "\r\n",
        "Gauss=ROOT.RooGaussian(\"Gaussian Signal\",\"Gauss\",mass,gaussMean,gaussWidth)\r\n",
        "Gauss_Norm = ROOT.RooRealVar(\"Gauss_Norm\",\"Signal Yield\", CutTreeBPlus.GetEntries()/30, 0, CutTreeBPlus.GetEntries() * 3)\r\n",
        "\r\n",
        "exponent=ROOT.RooRealVar(\"exponent\", \"C\", -0.02, -2, +2)\r\n",
        "exp_Norm= ROOT.RooRealVar(\"exp_Norm\",\"Background Yield\", CutTreeBPlus.GetEntries()/30, 0, CutTreeBPlus.GetEntries() * 2)\r\n",
        "\r\n",
        "Bkgnd=ROOT.RooExponential(\"Exponential Background\",\"Bkgnd\",mass,exponent)\r\n",
        "\r\n",
        "model=ROOT.RooAddPdf(\"Full Model\",\"model\",ROOT.RooArgList(Gauss,Bkgnd),ROOT.RooArgList(Gauss_Norm, exp_Norm))"
      ],
      "execution_count": null,
      "outputs": []
    },
    {
      "cell_type": "code",
      "metadata": {
        "colab": {
          "base_uri": "https://localhost:8080/"
        },
        "id": "pBvbO0JTP2vj",
        "outputId": "2bf9a8eb-3329-468c-f20f-df0df70ddd99"
      },
      "source": [
        "data_to_fit = ROOT.RooDataSet(\"Data Set\",\"data_to_fit\", CutTreeBPlus, ROOT.RooArgSet(mass))\r\n",
        "\r\n",
        "model.fitTo(data_to_fit)"
      ],
      "execution_count": null,
      "outputs": [
        {
          "output_type": "execute_result",
          "data": {
            "text/plain": [
              "<ROOT.RooFitResult object at 0x(nil)>"
            ]
          },
          "metadata": {
            "tags": []
          },
          "execution_count": 244
        },
        {
          "output_type": "stream",
          "text": [
            "[#1] INFO:Eval -- RooAbsReal::attachToTree(M_m0) TTree Float_t branch M_m0 will be converted to double precision\n",
            "[#1] INFO:Eval -- RooTreeDataStore::loadValues(Data Set) Ignored 1011 out of range events\n",
            "[#1] INFO:Minization -- p.d.f. provides expected number of events, including extended term in likelihood.\n",
            "[#1] INFO:Minization -- RooMinimizer::optimizeConst: activating const optimization\n",
            "[#1] INFO:Minization --  The following expressions will be evaluated in cache-and-track mode: (Gaussian Signal,Exponential Background)\n",
            " **********\n",
            " **  226 **SET PRINT           1\n",
            " **********\n",
            " **********\n",
            " **  227 **SET NOGRAD\n",
            " **********\n",
            " PARAMETER DEFINITIONS:\n",
            "    NO.   NAME         VALUE      STEP SIZE      LIMITS\n",
            "     1 Gauss_Norm   1.31000e+02  6.55000e+01    0.00000e+00  1.18530e+04\n",
            "     2 Mean         5.00000e+03  3.00000e+01    5.00000e+03  5.30000e+03\n",
            " MINUIT WARNING IN PARAM DEF\n",
            " ============== STARTING VALUE IS AT LIMIT.\n",
            " MINUIT WARNING IN PARAMETR\n",
            " ============== VARIABLE2 IS AT ITS LOWER ALLOWED LIMIT.\n",
            " MINUIT WARNING IN PARAMETR\n",
            " ============== VARIABLE2 BROUGHT BACK INSIDE LIMITS.\n",
            "     3 Width        4.00000e+01  2.00000e+01    0.00000e+00  7.00000e+03\n",
            "     4 exp_Norm     1.31000e+02  6.55000e+01    0.00000e+00  7.90200e+03\n",
            "     5 exponent    -2.00000e-02  4.00000e-01   -2.00000e+00  2.00000e+00\n",
            " **********\n",
            " **  228 **SET ERR         0.5\n",
            " **********\n",
            " **********\n",
            " **  229 **SET PRINT           1\n",
            " **********\n",
            " **********\n",
            " **  230 **SET STR           1\n",
            " **********\n",
            " NOW USING STRATEGY  1: TRY TO BALANCE SPEED AGAINST RELIABILITY\n",
            " **********\n",
            " **  231 **MIGRAD        2500           1\n",
            " **********\n",
            " FIRST CALL TO USER FUNCTION AT NEW START POINT, WITH IFLAG=4.\n",
            " MINUIT WARNING IN MIGrad    \n",
            " ============== VARIABLE2 IS AT ITS LOWER ALLOWED LIMIT.\n",
            " START MIGRAD MINIMIZATION.  STRATEGY  1.  CONVERGENCE WHEN EDM .LT. 1.00e-03\n",
            " FCN=-2114.78 FROM MIGRAD    STATUS=INITIATE       90 CALLS          91 TOTAL\n",
            "                     EDM= unknown      STRATEGY= 1      NO ERROR MATRIX       \n",
            "  EXT PARAMETER               CURRENT GUESS       STEP         FIRST   \n",
            "  NO.   NAME      VALUE            ERROR          SIZE      DERIVATIVE \n",
            "   1  Gauss_Norm   1.31000e+02   6.55000e+01   0.00000e+00  -1.80753e+04\n",
            "   2  Mean         5.28827e+03   3.00000e+01   0.00000e+00   3.47143e+01\n",
            "   3  Width        1.27361e+01   2.00000e+01  -6.59943e-02  -5.35456e+03\n",
            "   4  exp_Norm     1.31000e+02   6.55000e+01   0.00000e+00  -5.90875e+03\n",
            "   5  exponent    -2.00000e-02   4.00000e-01   0.00000e+00  -6.16116e+04\n",
            "                               ERR DEF= 0.5\n",
            " MIGRAD MINIMIZATION HAS CONVERGED.\n",
            " FCN=-7261.3 FROM MIGRAD    STATUS=CONVERGED     211 CALLS         212 TOTAL\n",
            "                     EDM=4.06295e-06    STRATEGY= 1  ERROR MATRIX UNCERTAINTY   4.5 per cent\n",
            "  EXT PARAMETER                                   STEP         FIRST   \n",
            "  NO.   NAME      VALUE            ERROR          SIZE      DERIVATIVE \n",
            "   1  Gauss_Norm   2.65812e+03   5.64945e+01  -8.31206e-04  -1.03131e-02\n",
            "   2  Mean         5.28578e+03   3.98993e-01   1.57888e-04  -2.34024e-01\n",
            "   3  Width        1.76989e+01   3.44461e-01  -4.84448e-05   1.83129e+00\n",
            "   4  exp_Norm     2.81897e+02   2.76407e+01   8.46786e-04   1.12143e-01\n",
            "   5  exponent    -3.74806e-03   1.16445e-03   1.29368e-05   2.07691e+00\n",
            "                               ERR DEF= 0.5\n",
            " EXTERNAL ERROR MATRIX.    NDIM=  25    NPAR=  5    ERR DEF=0.5\n",
            "  3.192e+03  2.014e+00  4.894e+00 -5.033e+02  4.886e-03 \n",
            "  2.014e+00  1.592e-01  1.381e-02 -1.187e+00  8.758e-05 \n",
            "  4.894e+00  1.381e-02  1.187e-01 -4.480e+00  4.610e-05 \n",
            " -5.033e+02 -1.187e+00 -4.480e+00  7.641e+02 -4.004e-03 \n",
            "  4.886e-03  8.758e-05  4.610e-05 -4.004e-03  1.356e-06 \n",
            " PARAMETER  CORRELATION COEFFICIENTS  \n",
            "       NO.  GLOBAL      1      2      3      4      5\n",
            "        1  0.34557   1.000  0.089  0.252 -0.322  0.074\n",
            "        2  0.21661   0.089  1.000  0.101 -0.108  0.188\n",
            "        3  0.48636   0.252  0.101  1.000 -0.470  0.115\n",
            "        4  0.52041  -0.322 -0.108 -0.470  1.000 -0.124\n",
            "        5  0.22317   0.074  0.188  0.115 -0.124  1.000\n",
            " **********\n",
            " **  232 **SET ERR         0.5\n",
            " **********\n",
            " **********\n",
            " **  233 **SET PRINT           1\n",
            " **********\n",
            " **********\n",
            " **  234 **HESSE        2500\n",
            " **********\n",
            " COVARIANCE MATRIX CALCULATED SUCCESSFULLY\n",
            " FCN=-7261.3 FROM HESSE     STATUS=OK             33 CALLS         245 TOTAL\n",
            "                     EDM=7.09461e-06    STRATEGY= 1      ERROR MATRIX ACCURATE \n",
            "  EXT PARAMETER                                INTERNAL      INTERNAL  \n",
            "  NO.   NAME      VALUE            ERROR       STEP SIZE       VALUE   \n",
            "   1  Gauss_Norm   2.65812e+03   5.61854e+01   6.30870e-04  -5.84144e-01\n",
            "   2  Mean         5.28578e+03   3.85426e-01   3.46699e-04   2.00979e+00\n",
            "   3  Width        1.76989e+01   3.49848e-01   5.10593e-05  -1.47019e+00\n",
            "   4  exp_Norm     2.81897e+02   2.79416e+01   9.52288e-04  -1.19076e+00\n",
            "   5  exponent    -3.74806e-03   1.17128e-03   3.34889e-05  -1.87403e-03\n",
            "                               ERR DEF= 0.5\n",
            " EXTERNAL ERROR MATRIX.    NDIM=  25    NPAR=  5    ERR DEF=0.5\n",
            "  3.157e+03  1.276e+00  4.660e+00 -4.988e+02  4.772e-03 \n",
            "  1.276e+00  1.486e-01  1.487e-02 -1.276e+00  9.203e-05 \n",
            "  4.660e+00  1.487e-02  1.224e-01 -4.660e+00  5.299e-05 \n",
            " -4.988e+02 -1.276e+00 -4.660e+00  7.808e+02 -4.773e-03 \n",
            "  4.772e-03  9.203e-05  5.299e-05 -4.773e-03  1.372e-06 \n",
            " PARAMETER  CORRELATION COEFFICIENTS  \n",
            "       NO.  GLOBAL      1      2      3      4      5\n",
            "        1  0.33311   1.000  0.059  0.237 -0.318  0.073\n",
            "        2  0.22824   0.059  1.000  0.110 -0.118  0.204\n",
            "        3  0.49039   0.237  0.110  1.000 -0.477  0.129\n",
            "        4  0.52860  -0.318 -0.118 -0.477  1.000 -0.146\n",
            "        5  0.24511   0.073  0.204  0.129 -0.146  1.000\n",
            "[#1] INFO:Minization -- RooMinimizer::optimizeConst: deactivating const optimization\n"
          ],
          "name": "stdout"
        }
      ]
    },
    {
      "cell_type": "code",
      "metadata": {
        "colab": {
          "base_uri": "https://localhost:8080/"
        },
        "id": "2yR_R65BQJns",
        "outputId": "1cee4c22-acb3-4c3e-99cb-6589bace9c34"
      },
      "source": [
        "#Plotting\r\n",
        "c1=ROOT.TCanvas(\"c1\",\"c1\")\r\n",
        "frame=mass.frame()\r\n",
        "data_to_fit.plotOn(frame)\r\n",
        "model.plotOn(frame, ROOT.RooFit.Components(\"Gaussian Signal\"),ROOT.RooFit.LineColor(8),ROOT.RooFit.LineStyle(2))\r\n",
        "model.plotOn(frame, ROOT.RooFit.Components(\"Exponential Background\"),ROOT.RooFit.LineColor(46),ROOT.RooFit.LineStyle(2))\r\n",
        "model.plotOn(frame)\r\n",
        "frame.Draw()\r\n",
        "c1.Update()\r\n",
        "c1.Draw()"
      ],
      "execution_count": null,
      "outputs": [
        {
          "output_type": "stream",
          "text": [
            "[#1] INFO:Plotting -- RooAbsPdf::plotOn(Full Model) directly selected PDF components: (Gaussian Signal)\n",
            "[#1] INFO:Plotting -- RooAbsPdf::plotOn(Full Model) indirectly selected PDF components: ()\n",
            "[#1] INFO:Plotting -- RooAbsPdf::plotOn(Full Model) directly selected PDF components: (Exponential Background)\n",
            "[#1] INFO:Plotting -- RooAbsPdf::plotOn(Full Model) indirectly selected PDF components: ()\n"
          ],
          "name": "stdout"
        },
        {
          "output_type": "stream",
          "text": [
            "Warning in <TCanvas::Constructor>: Deleting canvas with same name: c1\n"
          ],
          "name": "stderr"
        },
        {
          "output_type": "display_data",
          "data": {
            "image/png": "[encoded data removed]",
            "text/plain": [
              "<IPython.core.display.Image object>"
            ]
          },
          "metadata": {
            "tags": []
          }
        }
      ]
    },
    {
      "cell_type": "code",
      "metadata": {
        "colab": {
          "base_uri": "https://localhost:8080/"
        },
        "id": "jUSzr8hQQWku",
        "outputId": "2d528f06-1d07-4959-bb62-844d65915237"
      },
      "source": [
        "print(Gauss_Norm.getValV())\r\n",
        "print(Gauss_Norm.getError())\r\n",
        "print(frame.chiSquare())\r\n",
        "\r\n",
        "ValPlus = Gauss_Norm.getValV()"
      ],
      "execution_count": null,
      "outputs": [
        {
          "output_type": "stream",
          "text": [
            "2658.11973276\n",
            "56.1853983568\n",
            "0.706922697737\n"
          ],
          "name": "stdout"
        }
      ]
    },
    {
      "cell_type": "markdown",
      "metadata": {
        "id": "WqIpPuusSMhT"
      },
      "source": [
        "## For minus"
      ]
    },
    {
      "cell_type": "code",
      "metadata": {
        "id": "Dy7bmu1mSVZg"
      },
      "source": [
        "mass = ROOT.RooRealVar(\"M_m0\",\"Mass\",5200,5400,\"MeV/C^{2}\")\r\n",
        "\r\n",
        "gaussMean = ROOT.RooRealVar(\"Mean\",\"Mean\",1000,5000,5300)\r\n",
        "gaussWidth = ROOT.RooRealVar(\"Width\",\"Width\",40,0,7000)\r\n",
        "\r\n",
        "Gauss=ROOT.RooGaussian(\"Gaussian Signal\",\"Gauss\",mass,gaussMean,gaussWidth)\r\n",
        "Gauss_Norm= ROOT.RooRealVar(\"Gauss_Norm\",\"Signal Yield\", CutTreeBMinus.GetEntries()/30, 0, CutTreeBMinus.GetEntries() * 3)\r\n",
        "\r\n",
        "exponent=ROOT.RooRealVar(\"exponent\", \"C\", -0.02, -2, +2)\r\n",
        "exp_Norm= ROOT.RooRealVar(\"exp_Norm\",\"Background Yield\", CutTreeBMinus.GetEntries()/30, 0, CutTreeBMinus.GetEntries() * 2)\r\n",
        "\r\n",
        "Bkgnd=ROOT.RooExponential(\"Exponential Background\",\"Bkgnd\",mass,exponent)\r\n",
        "\r\n",
        "\r\n",
        "model=ROOT.RooAddPdf(\"Full Model\",\"model\",ROOT.RooArgList(Gauss,Bkgnd),ROOT.RooArgList(Gauss_Norm, exp_Norm) )"
      ],
      "execution_count": null,
      "outputs": []
    },
    {
      "cell_type": "code",
      "metadata": {
        "colab": {
          "base_uri": "https://localhost:8080/"
        },
        "id": "i3hdBE03SWtZ",
        "outputId": "c28c66f6-ab79-40f6-fb0f-8828c7ddea5d"
      },
      "source": [
        "data_to_fit = ROOT.RooDataSet(\"Data Set\",\"data_to_fit\", CutTreeBMinus, ROOT.RooArgSet(mass))\r\n",
        "model.fitTo(data_to_fit)"
      ],
      "execution_count": null,
      "outputs": [
        {
          "output_type": "execute_result",
          "data": {
            "text/plain": [
              "<ROOT.RooFitResult object at 0x(nil)>"
            ]
          },
          "metadata": {
            "tags": []
          },
          "execution_count": 248
        },
        {
          "output_type": "stream",
          "text": [
            "[#1] INFO:Eval -- RooAbsReal::attachToTree(M_m0) TTree Float_t branch M_m0 will be converted to double precision\n",
            "[#1] INFO:Eval -- RooTreeDataStore::loadValues(Data Set) Ignored 1029 out of range events\n",
            "[#1] INFO:Minization -- p.d.f. provides expected number of events, including extended term in likelihood.\n",
            "[#1] INFO:Minization -- RooMinimizer::optimizeConst: activating const optimization\n",
            "[#1] INFO:Minization --  The following expressions will be evaluated in cache-and-track mode: (Gaussian Signal,Exponential Background)\n",
            " **********\n",
            " **  235 **SET PRINT           1\n",
            " **********\n",
            " **********\n",
            " **  236 **SET NOGRAD\n",
            " **********\n",
            " PARAMETER DEFINITIONS:\n",
            "    NO.   NAME         VALUE      STEP SIZE      LIMITS\n",
            "     1 Gauss_Norm   1.26000e+02  6.30000e+01    0.00000e+00  1.13730e+04\n",
            "     2 Mean         5.00000e+03  3.00000e+01    5.00000e+03  5.30000e+03\n",
            " MINUIT WARNING IN PARAM DEF\n",
            " ============== STARTING VALUE IS AT LIMIT.\n",
            " MINUIT WARNING IN PARAMETR\n",
            " ============== VARIABLE2 IS AT ITS LOWER ALLOWED LIMIT.\n",
            " MINUIT WARNING IN PARAMETR\n",
            " ============== VARIABLE2 BROUGHT BACK INSIDE LIMITS.\n",
            "     3 Width        4.00000e+01  2.00000e+01    0.00000e+00  7.00000e+03\n",
            "     4 exp_Norm     1.26000e+02  6.30000e+01    0.00000e+00  7.58200e+03\n",
            "     5 exponent    -2.00000e-02  4.00000e-01   -2.00000e+00  2.00000e+00\n",
            " **********\n",
            " **  237 **SET ERR         0.5\n",
            " **********\n",
            " **********\n",
            " **  238 **SET PRINT           1\n",
            " **********\n",
            " **********\n",
            " **  239 **SET STR           1\n",
            " **********\n",
            " NOW USING STRATEGY  1: TRY TO BALANCE SPEED AGAINST RELIABILITY\n",
            " **********\n",
            " **  240 **MIGRAD        2500           1\n",
            " **********\n",
            " FIRST CALL TO USER FUNCTION AT NEW START POINT, WITH IFLAG=4.\n",
            " MINUIT WARNING IN MIGrad    \n",
            " ============== VARIABLE2 IS AT ITS LOWER ALLOWED LIMIT.\n",
            " START MIGRAD MINIMIZATION.  STRATEGY  1.  CONVERGENCE WHEN EDM .LT. 1.00e-03\n",
            " FCN=-1828.72 FROM MIGRAD    STATUS=INITIATE       93 CALLS          94 TOTAL\n",
            "                     EDM= unknown      STRATEGY= 1      NO ERROR MATRIX       \n",
            "  EXT PARAMETER               CURRENT GUESS       STEP         FIRST   \n",
            "  NO.   NAME      VALUE            ERROR          SIZE      DERIVATIVE \n",
            "   1  Gauss_Norm   1.26000e+02   6.30000e+01   0.00000e+00  -1.65709e+04\n",
            "   2  Mean         5.28626e+03   3.00000e+01   0.00000e+00  -1.84178e+02\n",
            "   3  Width        1.23292e+01   2.00000e+01  -6.73695e-02  -8.59661e+03\n",
            "   4  exp_Norm     1.26000e+02   6.30000e+01   0.00000e+00  -5.81608e+03\n",
            "   5  exponent    -2.00000e-02   4.00000e-01   0.00000e+00  -6.01172e+04\n",
            "                               ERR DEF= 0.5\n",
            " MIGRAD MINIMIZATION HAS CONVERGED.\n",
            " MIGRAD WILL VERIFY CONVERGENCE AND ERROR MATRIX.\n",
            " COVARIANCE MATRIX CALCULATED SUCCESSFULLY\n",
            " FCN=-6641.46 FROM MIGRAD    STATUS=CONVERGED     244 CALLS         245 TOTAL\n",
            "                     EDM=5.53765e-05    STRATEGY= 1      ERROR MATRIX ACCURATE \n",
            "  EXT PARAMETER                                   STEP         FIRST   \n",
            "  NO.   NAME      VALUE            ERROR          SIZE      DERIVATIVE \n",
            "   1  Gauss_Norm   2.52124e+03   5.44978e+01   6.12747e-04  -3.70852e-02\n",
            "   2  Mean         5.28347e+03   3.99980e-01   3.21681e-04   7.30380e-01\n",
            "   3  Width        1.80992e+01   3.60287e-01   4.99002e-05   4.83830e+00\n",
            "   4  exp_Norm     2.40796e+02   2.62646e+01   9.39708e-04   3.29828e-01\n",
            "   5  exponent    -2.44213e-03   1.29440e-03   3.47845e-05   1.72273e+00\n",
            "                               ERR DEF= 0.5\n",
            " EXTERNAL ERROR MATRIX.    NDIM=  25    NPAR=  5    ERR DEF=0.5\n",
            "  2.970e+03  8.711e-01  4.458e+00 -4.490e+02  7.587e-03 \n",
            "  8.711e-01  1.600e-01  9.865e-03 -8.712e-01  1.049e-04 \n",
            "  4.458e+00  9.865e-03  1.298e-01 -4.458e+00  7.891e-05 \n",
            " -4.490e+02 -8.712e-01 -4.458e+00  6.899e+02 -7.590e-03 \n",
            "  7.587e-03  1.049e-04  7.891e-05 -7.590e-03  1.675e-06 \n",
            " PARAMETER  CORRELATION COEFFICIENTS  \n",
            "       NO.  GLOBAL      1      2      3      4      5\n",
            "        1  0.32786   1.000  0.040  0.227 -0.314  0.108\n",
            "        2  0.20723   0.040  1.000  0.068 -0.083  0.203\n",
            "        3  0.48278   0.227  0.068  1.000 -0.471  0.169\n",
            "        4  0.53335  -0.314 -0.083 -0.471  1.000 -0.223\n",
            "        5  0.29887   0.108  0.203  0.169 -0.223  1.000\n",
            " **********\n",
            " **  241 **SET ERR         0.5\n",
            " **********\n",
            " **********\n",
            " **  242 **SET PRINT           1\n",
            " **********\n",
            " **********\n",
            " **  243 **HESSE        2500\n",
            " **********\n",
            " COVARIANCE MATRIX CALCULATED SUCCESSFULLY\n",
            " FCN=-6641.46 FROM HESSE     STATUS=OK             31 CALLS         276 TOTAL\n",
            "                     EDM=5.53474e-05    STRATEGY= 1      ERROR MATRIX ACCURATE \n",
            "  EXT PARAMETER                                INTERNAL      INTERNAL  \n",
            "  NO.   NAME      VALUE            ERROR       STEP SIZE       VALUE   \n",
            "   1  Gauss_Norm   2.52124e+03   5.45004e+01   1.22549e-04  -5.90319e-01\n",
            "   2  Mean         5.28347e+03   3.99956e-01   6.43363e-05  -4.23853e+00\n",
            "   3  Width        1.80992e+01   3.60398e-01   9.98003e-06  -1.46905e+00\n",
            "   4  exp_Norm     2.40796e+02   2.62691e+01   1.87942e-04  -1.21246e+00\n",
            "   5  exponent    -2.44213e-03   1.29385e-03   6.95690e-06  -1.22107e-03\n",
            "                               ERR DEF= 0.5\n",
            " EXTERNAL ERROR MATRIX.    NDIM=  25    NPAR=  5    ERR DEF=0.5\n",
            "  2.970e+03  8.676e-01  4.465e+00 -4.493e+02  7.534e-03 \n",
            "  8.676e-01  1.600e-01  9.758e-03 -8.677e-01  1.047e-04 \n",
            "  4.465e+00  9.758e-03  1.299e-01 -4.466e+00  7.836e-05 \n",
            " -4.493e+02 -8.677e-01 -4.466e+00  6.902e+02 -7.535e-03 \n",
            "  7.534e-03  1.047e-04  7.836e-05 -7.535e-03  1.674e-06 \n",
            " PARAMETER  CORRELATION COEFFICIENTS  \n",
            "       NO.  GLOBAL      1      2      3      4      5\n",
            "        1  0.32799   1.000  0.040  0.227 -0.314  0.107\n",
            "        2  0.20696   0.040  1.000  0.068 -0.083  0.202\n",
            "        3  0.48327   0.227  0.068  1.000 -0.472  0.168\n",
            "        4  0.53358  -0.314 -0.083 -0.472  1.000 -0.222\n",
            "        5  0.29756   0.107  0.202  0.168 -0.222  1.000\n",
            "[#1] INFO:Minization -- RooMinimizer::optimizeConst: deactivating const optimization\n"
          ],
          "name": "stdout"
        }
      ]
    },
    {
      "cell_type": "code",
      "metadata": {
        "colab": {
          "base_uri": "https://localhost:8080/",
          "height": 580
        },
        "id": "20QEQEbzSldk",
        "outputId": "a67e7127-6d18-4360-f102-02820887a26f"
      },
      "source": [
        "#Plotting\r\n",
        "c1=ROOT.TCanvas(\"c1\",\"c1\")\r\n",
        "frame = mass.frame()\r\n",
        "data_to_fit.plotOn(frame)\r\n",
        "model.plotOn(frame, ROOT.RooFit.Components(\"Gaussian Signal\"),ROOT.RooFit.LineColor(8),ROOT.RooFit.LineStyle(2))\r\n",
        "model.plotOn(frame, ROOT.RooFit.Components(\"Exponential Background\"),ROOT.RooFit.LineColor(46),ROOT.RooFit.LineStyle(2))\r\n",
        "model.plotOn(frame)\r\n",
        "frame.Draw()\r\n",
        "c1.Update()\r\n",
        "c1.Draw()"
      ],
      "execution_count": null,
      "outputs": [
        {
          "output_type": "stream",
          "text": [
            "[#1] INFO:Plotting -- RooAbsPdf::plotOn(Full Model) directly selected PDF components: (Gaussian Signal)\n",
            "[#1] INFO:Plotting -- RooAbsPdf::plotOn(Full Model) indirectly selected PDF components: ()\n",
            "[#1] INFO:Plotting -- RooAbsPdf::plotOn(Full Model) directly selected PDF components: (Exponential Background)\n",
            "[#1] INFO:Plotting -- RooAbsPdf::plotOn(Full Model) indirectly selected PDF components: ()\n"
          ],
          "name": "stdout"
        },
        {
          "output_type": "stream",
          "text": [
            "Warning in <TCanvas::Constructor>: Deleting canvas with same name: c1\n"
          ],
          "name": "stderr"
        },
        {
          "output_type": "display_data",
          "data": {
            "image/png": "[encoded data removed]",
            "text/plain": [
              "<IPython.core.display.Image object>"
            ]
          },
          "metadata": {
            "tags": []
          }
        }
      ]
    },
    {
      "cell_type": "code",
      "metadata": {
        "colab": {
          "base_uri": "https://localhost:8080/"
        },
        "id": "qnY1CzwUSada",
        "outputId": "d562268a-14be-4f3d-cc69-25cb0c4d46af"
      },
      "source": [
        "print(Gauss_Norm.getValV())\r\n",
        "print(Gauss_Norm.getError())\r\n",
        "print(frame.chiSquare())\r\n",
        "\r\n",
        "ValMinus = Gauss_Norm.getValV()"
      ],
      "execution_count": null,
      "outputs": [
        {
          "output_type": "stream",
          "text": [
            "2521.243877\n",
            "54.5004092781\n",
            "0.598156727226\n"
          ],
          "name": "stdout"
        }
      ]
    },
    {
      "cell_type": "markdown",
      "metadata": {
        "id": "r8VB5uN1obc4"
      },
      "source": [
        "Once we have defined if it's a B<sup>+</sup> or a B <sup>-</sup>, we should go ahead and ensure the pre-selection is applied and then plot our B mass, and fit the model to find the yield.\r\n",
        "\r\n",
        "We can then calculate the assymetry from this equation:\r\n",
        "\r\n",
        "$A=\\frac{(N^{B-}-N^{B+})}{(N^{B-}+N^{B+})}$\r\n",
        "\r\n",
        "Where N<sup>B+/- </sup> is the number of events found from the fitted yield of the signal from each data set.\r\n",
        "\r\n",
        "The uncertainty on this result is given by:\r\n",
        "\r\n",
        "$\\sigma_A=\\sqrt\\frac{1-A^2}{N^{B-}+N^{B+}}$\r\n",
        "\r\n",
        "Calculate these two values for your data and print them below:"
      ]
    },
    {
      "cell_type": "code",
      "metadata": {
        "id": "UiPNe2iuobSK",
        "colab": {
          "base_uri": "https://localhost:8080/"
        },
        "outputId": "0dc042e4-d008-4fa3-9f7a-32f548d8a295"
      },
      "source": [
        "#Here do your calculation of the final result\r\n",
        "import math\r\n",
        "\r\n",
        "A = (ValMinus - ValPlus)/(ValMinus + ValPlus)\r\n",
        "Sigma = math.sqrt((1-A**2)/(ValMinus + ValPlus))\r\n",
        "\r\n",
        "print(\"Assymetry = \" + str(A) + \" +- \" + str(Sigma))\r\n",
        "\r\n",
        "#:))))))))))) yay"
      ],
      "execution_count": null,
      "outputs": [
        {
          "output_type": "stream",
          "text": [
            "Assymetry = -0.0264271570936 +- 0.0138902509485\n"
          ],
          "name": "stdout"
        }
      ]
    },
    {
      "cell_type": "markdown",
      "metadata": {
        "id": "r5B--_33okz1"
      },
      "source": [
        "#Congratulations!\r\n",
        "\r\n",
        "You just made your first LHCb physics analysis. Does this seem like a reasonable result? Did we explain why we have an excess of mass in the Universe?"
      ]
    },
    {
      "cell_type": "markdown",
      "metadata": {
        "id": "dzybWZylomGu"
      },
      "source": [
        "## **Bonus content only below here:**"
      ]
    },
    {
      "cell_type": "markdown",
      "metadata": {
        "id": "odpbRqdoou5M"
      },
      "source": [
        "To make a further anaysis, we can look into the intermediate processes.\r\n",
        "\r\n",
        "We have so far considered only that the B meson ultimately decays into three kaons. It may be that on the way, the B meson first decays into a Kaon and another particle, and then from that particle to two Kaons.\r\n",
        "\r\n",
        "We would expect this to be one of three possible modes (for B<sup>+</sup>):\r\n",
        "\r\n",
        "$R^{++} \\rightarrow K_1^+ +K_2^+$\r\n",
        "\r\n",
        "(we don't expect this to happen because of the like charges in the Kaons)\r\n",
        "\r\n",
        "$R^0 \\rightarrow K_1^+ +K_3^-$\r\n",
        "\r\n",
        "$R^0 \\rightarrow K_2^+ +K_3^-$\r\n",
        "\r\n",
        "(Expect symmetric arrangements for B<sup>-</sup>)\r\n",
        "\r\n",
        "To analyse the intermediate states we can measure the invarient masses of the intermediate states and then plot them on what is called a Dalitz plot (this is a 2D plot with two different two body decays (from the three body decay) on each axis)\r\n",
        "\r\n",
        "![Dalitz Plot](https://slideplayer.com/slide/15960097/88/images/15/Dalitz+plot%3A+%CE%9B+c+%2B+%E2%86%92%F0%9D%91%9D+%F0%9D%90%BE+%E2%88%92+%F0%9D%9C%8B+%2B.jpg)\r\n"
      ]
    },
    {
      "cell_type": "code",
      "metadata": {
        "id": "SqJxvZSKo1cW"
      },
      "source": [
        "#Define a function to find the invarient mass of two given Kaons"
      ],
      "execution_count": null,
      "outputs": []
    },
    {
      "cell_type": "code",
      "metadata": {
        "id": "YPVqECfPo3Wc"
      },
      "source": [
        "#Then, ensuring you're still taking the data after the selection, make a Dalitz plot. This is a 2-D scatter plot (use e.g. TH2F to make the plot where we used TH1F before)\r\n",
        "#Choose an appropriate binning in your scatter "
      ],
      "execution_count": null,
      "outputs": []
    },
    {
      "cell_type": "markdown",
      "metadata": {
        "id": "qPoPLt4Uo6QB"
      },
      "source": [
        "We can further improve our plot, since two sets of particles on each axis are exactly the same (one positive Kaon, one negative Kaon). So we can plot the maximum of the two values on one axis and the minimum on the other. We can use a quick numpy check and then plot those values."
      ]
    },
    {
      "cell_type": "code",
      "metadata": {
        "id": "KJ_fe2R3o8Aq"
      },
      "source": [
        "#Make the revised Dalitz plot here for B+ mesons"
      ],
      "execution_count": null,
      "outputs": []
    },
    {
      "cell_type": "code",
      "metadata": {
        "id": "t46slV8Yo-Ed"
      },
      "source": [
        "#Make the revised Dalitz plot here for B- mesons"
      ],
      "execution_count": null,
      "outputs": []
    },
    {
      "cell_type": "code",
      "metadata": {
        "id": "RfTDh69qo9_q"
      },
      "source": [
        "#Where we have a higher density of points (or a bigger value in the bin) this is indication of an intermediate resonance\r\n",
        "#Check out the possible resonances you have found in the PDG (http://pdg.lbl.gov/2020/tables/contents_tables.html)"
      ],
      "execution_count": null,
      "outputs": []
    }
  ]
}